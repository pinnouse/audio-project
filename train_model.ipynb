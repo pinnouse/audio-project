{
 "cells": [
  {
   "cell_type": "code",
   "execution_count": 1,
   "metadata": {},
   "outputs": [
    {
     "data": {
      "text/plain": [
       "((8606, 256, 256), (8606,), 232)"
      ]
     },
     "execution_count": 1,
     "metadata": {},
     "output_type": "execute_result"
    }
   ],
   "source": [
    "import numpy as np\n",
    "\n",
    "X = np.load('model_train/train/inputs.npy')\n",
    "T = np.load('model_train/train/targets.npy')\n",
    "\n",
    "classes = int(T.max()) + 1\n",
    "X.shape, T.shape, classes"
   ]
  },
  {
   "cell_type": "code",
   "execution_count": 2,
   "metadata": {},
   "outputs": [],
   "source": [
    "import torch\n",
    "from ipynb.fs.defs.model import create_model\n",
    "from torch.nn import CrossEntropyLoss\n",
    "from torch.optim import AdamW\n",
    "\n",
    "device = 'cuda' if torch.cuda.is_available() else 'cpu'\n",
    "\n",
    "model = create_model(classes, device)\n",
    "\n",
    "optim = AdamW(model.parameters())\n",
    "loss_fn = CrossEntropyLoss()"
   ]
  },
  {
   "cell_type": "code",
   "execution_count": 3,
   "metadata": {},
   "outputs": [
    {
     "data": {
      "text/plain": [
       "tensor(5.4466, device='cuda:0', grad_fn=<NllLossBackward0>)"
      ]
     },
     "execution_count": 3,
     "metadata": {},
     "output_type": "execute_result"
    }
   ],
   "source": [
    "N = X.shape[0]\n",
    "X = X.reshape((N, 1, 256, 256))\n",
    "\n",
    "X_train = torch.tensor(X, device=device, dtype=torch.float32)\n",
    "y_train = torch.tensor(T, device=device, dtype=torch.long)\n",
    "\n",
    "o = model(X_train[:1])\n",
    "loss_fn(o, y_train[:1])"
   ]
  },
  {
   "cell_type": "code",
   "execution_count": 4,
   "metadata": {},
   "outputs": [
    {
     "name": "stdout",
     "output_type": "stream",
     "text": [
      "Starting training.\n",
      "Number of minibatches for training/test: 54/14\n",
      "Starting epoch 1 of 20\n"
     ]
    },
    {
     "name": "stderr",
     "output_type": "stream",
     "text": [
      "c:\\Users\\cupof\\repos\\audio-project\\.venv\\Lib\\site-packages\\torch\\nn\\modules\\conv.py:456: UserWarning: Plan failed with a cudnnException: CUDNN_BACKEND_EXECUTION_PLAN_DESCRIPTOR: cudnnFinalize Descriptor Failed cudnn_status: CUDNN_STATUS_NOT_SUPPORTED (Triggered internally at ..\\aten\\src\\ATen\\native\\cudnn\\Conv_v8.cpp:919.)\n",
      "  return F.conv2d(input, weight, bias, self.stride,\n",
      "c:\\Users\\cupof\\repos\\audio-project\\.venv\\Lib\\site-packages\\torch\\autograd\\graph.py:744: UserWarning: Plan failed with a cudnnException: CUDNN_BACKEND_EXECUTION_PLAN_DESCRIPTOR: cudnnFinalize Descriptor Failed cudnn_status: CUDNN_STATUS_NOT_SUPPORTED (Triggered internally at ..\\aten\\src\\ATen\\native\\cudnn\\Conv_v8.cpp:919.)\n",
      "  return Variable._execution_engine.run_backward(  # Calls into the C++ engine to run the backward pass\n"
     ]
    },
    {
     "name": "stdout",
     "output_type": "stream",
     "text": [
      "\tTraining took: 245.74s\twith loss: 5.401314\n",
      "Starting epoch 2 of 20\n",
      "\tTraining took: 394.21s\twith loss: 5.403354\n",
      "Starting epoch 3 of 20\n",
      "\tTraining took: 462.27s\twith loss: 5.403263\n",
      "Starting epoch 4 of 20\n",
      "\tTraining took: 678.07s\twith loss: 5.403262\n",
      "Starting epoch 5 of 20\n",
      "\tTraining took: 486.84s\twith loss: 5.403376\n",
      "Starting epoch 6 of 20\n",
      "\tTraining took: 334.17s\twith loss: 5.403340\n",
      "Starting epoch 7 of 20\n",
      "\tTraining took: 362.69s\twith loss: 5.403108\n",
      "Starting epoch 8 of 20\n",
      "\tTraining took: 424.09s\twith loss: 5.403313\n",
      "Starting epoch 9 of 20\n",
      "\tTraining took: 304.99s\twith loss: 5.403543\n",
      "Starting epoch 10 of 20\n",
      "\tTraining took: 511.40s\twith loss: 5.403416\n",
      "Starting epoch 11 of 20\n",
      "\tTraining took: 574.21s\twith loss: 5.403378\n",
      "Starting epoch 12 of 20\n",
      "\tTraining took: 343.47s\twith loss: 5.403545\n",
      "Starting epoch 13 of 20\n",
      "\tTraining took: 327.08s\twith loss: 5.403465\n",
      "Starting epoch 14 of 20\n",
      "\tTraining took: 298.37s\twith loss: 5.402803\n",
      "Starting epoch 15 of 20\n",
      "\tTraining took: 514.65s\twith loss: 5.391085\n",
      "Starting epoch 16 of 20\n",
      "\tTraining took: 568.50s\twith loss: 5.391085\n",
      "Starting epoch 17 of 20\n",
      "\tTraining took: 248.29s\twith loss: 5.391085\n",
      "Starting epoch 18 of 20\n",
      "\tTraining took: 357.83s\twith loss: 5.391085\n",
      "Starting epoch 19 of 20\n",
      "\tTraining took: 651.52s\twith loss: 5.391085\n",
      "Starting epoch 20 of 20\n",
      "\tTraining took: 1010.85s\twith loss: 5.391085\n"
     ]
    }
   ],
   "source": [
    "from ipynb.fs.defs.model import train\n",
    "\n",
    "t_l, v_l = train(model, 20, X_train, y_train, optim, loss_fn, bs=128, random_seed=1234)"
   ]
  },
  {
   "cell_type": "code",
   "execution_count": 5,
   "metadata": {},
   "outputs": [],
   "source": [
    "np.save('train_losses.npy', t_l)\n",
    "np.save('valid_losses.npy', v_l)"
   ]
  },
  {
   "cell_type": "code",
   "execution_count": 6,
   "metadata": {},
   "outputs": [
    {
     "data": {
      "text/plain": [
       "<matplotlib.legend.Legend at 0x275db5a3ec0>"
      ]
     },
     "execution_count": 6,
     "metadata": {},
     "output_type": "execute_result"
    },
    {
     "data": {
      "image/png": "[encoded data removed]",
      "text/plain": [
       "<Figure size 640x480 with 1 Axes>"
      ]
     },
     "metadata": {},
     "output_type": "display_data"
    }
   ],
   "source": [
    "import matplotlib.pyplot as plt\n",
    "\n",
    "ax = plt.subplot()\n",
    "ax.plot(np.arange(20), t_l, label='train loss')\n",
    "ax.plot(np.arange(20), v_l, label='validation loss')\n",
    "plt.legend()"
   ]
  }
 ],
 "metadata": {
  "kernelspec": {
   "display_name": ".venv",
   "language": "python",
   "name": "python3"
  },
  "language_info": {
   "codemirror_mode": {
    "name": "ipython",
    "version": 3
   },
   "file_extension": ".py",
   "mimetype": "text/x-python",
   "name": "python",
   "nbconvert_exporter": "python",
   "pygments_lexer": "ipython3",
   "version": "3.12.3"
  }
 },
 "nbformat": 4,
 "nbformat_minor": 2
}
