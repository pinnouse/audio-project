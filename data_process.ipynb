{
 "cells": [
  {
   "cell_type": "code",
   "execution_count": 2,
   "metadata": {
    "metadata": {}
   },
   "outputs": [],
   "source": [
    "import os\n",
    "\n",
    "DATA_DIR = os.path.join(\"english\")"
   ]
  },
  {
   "cell_type": "code",
   "execution_count": 3,
   "metadata": {
    "metadata": {}
   },
   "outputs": [
    {
     "data": {
      "text/plain": [
       "('english\\\\Durian',\n",
       " [],\n",
       " ['aligned.swc',\n",
       "  'audio.ogg',\n",
       "  'audiometa.txt',\n",
       "  'info.json',\n",
       "  'wiki.html',\n",
       "  'wiki.txt',\n",
       "  'wiki.xml'])"
      ]
     },
     "execution_count": 3,
     "metadata": {},
     "output_type": "execute_result"
    }
   ],
   "source": [
    "next(os.walk(os.path.join(DATA_DIR, 'Durian')))"
   ]
  },
  {
   "cell_type": "code",
   "execution_count": 3,
   "metadata": {
    "metadata": {}
   },
   "outputs": [],
   "source": [
    "import xml.etree.ElementTree as ET\n",
    "from typing import List\n",
    "\n",
    "import numpy as np\n",
    "\n",
    "\n",
    "class PronunciationTiming(object):\n",
    "\n",
    "    def __init__(self, word: str, start: int, end: int) -> None:\n",
    "        self.word = word\n",
    "        self.start = start\n",
    "        self.end = end\n",
    "\n",
    "class SWC(object):\n",
    "\n",
    "    def __init__(self, swc_path: str) -> None:\n",
    "        self.tree = ET.parse(swc_path)\n",
    "        self.timings = []\n",
    "\n",
    "    def get_timings(self) -> List[PronunciationTiming]:\n",
    "        if len(self.timings) > 0:\n",
    "            return self.timings\n",
    "        # https://www.geeksforgeeks.org/xml-parsing-python/\n",
    "        root = self.tree.getroot()\n",
    "        doc = root.find('d')\n",
    "\n",
    "        for p in doc.findall('p'):\n",
    "            for s in p.findall('s'):\n",
    "                for t in s.findall('t'):\n",
    "                    for n in t.findall('n'):\n",
    "                        attribs = n.attrib\n",
    "                        if 'pronunciation' not in attribs \\\n",
    "                            or 'start' not in attribs or 'end' not in attribs:\n",
    "                            continue\n",
    "                        word = attribs['pronunciation'].lower()\n",
    "                        self.timings.append(PronunciationTiming(\n",
    "                            word,\n",
    "                            int(attribs['start']),\n",
    "                            int(attribs['end'])))\n",
    "        return self.timings"
   ]
  },
  {
   "cell_type": "code",
   "execution_count": 9,
   "metadata": {
    "metadata": {}
   },
   "outputs": [],
   "source": [
    "from typing import Tuple\n",
    "\n",
    "from pydub import AudioSegment\n",
    "\n",
    "\n",
    "def split_clip(audio: AudioSegment, swc: SWC\n",
    "               ) -> Tuple[List[str], List[AudioSegment]]:\n",
    "    words = []\n",
    "    clips = []\n",
    "    for p in swc.get_timings():\n",
    "        words.append(p.word)\n",
    "        clip = audio[p.start:p.end]\n",
    "        # https://github.com/jiaaro/pydub/blob/master/API.markdown#audiosegmentget_array_of_samples\n",
    "        # clip = audio[p.start:p.end].get_array_of_samples()\n",
    "        # fp_arr = np.array(clip).T.astype(np.float32)\n",
    "        # fp_arr /= np.iinfo(clip.typecode).max\n",
    "        clips.append(clip)\n",
    "    return words, clips\n",
    "\n",
    "# audio = AudioSegment.from_ogg('english/Durian/audio.ogg')\n",
    "# print(audio.channels, audio.frame_rate)\n",
    "# swc = SWC('english/Durian/aligned.swc')\n",
    "# split_clip(audio, swc)"
   ]
  },
  {
   "cell_type": "code",
   "execution_count": 10,
   "metadata": {
    "metadata": {}
   },
   "outputs": [],
   "source": [
    "from typing import Optional\n",
    "\n",
    "\n",
    "class PronunciationClip(object):\n",
    "    def __init__(self, word: str, audio: AudioSegment) -> None:\n",
    "        self.word = word\n",
    "        self.audio = audio\n",
    "\n",
    "    def __repr__(self) -> str:\n",
    "        return f\"PronunciationClip({repr(self.word)}, {repr(self.audio)})\"\n",
    "\n",
    "def load_utterances(limit: Optional[int] = 5000, vocab: List[str] = None\n",
    "                    ) -> List[PronunciationClip]:\n",
    "    clips = []\n",
    "\n",
    "    for dir in os.listdir(DATA_DIR):\n",
    "        path = os.path.join(DATA_DIR, dir)\n",
    "        if not os.path.isdir(path):\n",
    "            continue\n",
    "        files = os.listdir(path)\n",
    "        if 'audio.ogg' not in files or 'aligned.swc' not in files:\n",
    "            continue\n",
    "        try:\n",
    "            audio = AudioSegment.from_ogg(os.path.join(path, 'audio.ogg'))\n",
    "        except:  # noqa: E722\n",
    "            print(f'Failed to decode file: {os.path.join(path, \"audio.ogg\")}')\n",
    "            continue\n",
    "        swc = SWC(os.path.join(path, 'aligned.swc'))\n",
    "        words, pcms = split_clip(audio, swc)\n",
    "        for w, c in zip(words, pcms):\n",
    "            # skip words less than 4 chars long or not in vocab\n",
    "            if len(w) < 4 \\\n",
    "                or vocab is not None and w not in vocab:\n",
    "                continue\n",
    "            clips.append(PronunciationClip(w, c))\n",
    "\n",
    "        if limit is not None and len(clips) > limit:\n",
    "            break\n",
    "    return clips"
   ]
  },
  {
   "cell_type": "code",
   "execution_count": 7,
   "metadata": {
    "metadata": {}
   },
   "outputs": [
    {
     "name": "stdout",
     "output_type": "stream",
     "text": [
      "Failed to decode file: english\\Caesium\\audio.ogg\n",
      "Failed to decode file: english\\Fuck_(film)\\audio.ogg\n",
      "Failed to decode file: english\\Spinning_Around\\audio.ogg\n",
      "100283\n"
     ]
    },
    {
     "data": {
      "text/plain": [
       "PronunciationClip('cant', <pydub.audio_segment.AudioSegment object at 0x0000017DCCD26180>)"
      ]
     },
     "execution_count": 7,
     "metadata": {},
     "output_type": "execute_result"
    }
   ],
   "source": [
    "# clips = load_utterances(None) # 50 minutes to load 100,000 clips\n",
    "# print(len(clips))\n",
    "# clips[0]"
   ]
  },
  {
   "cell_type": "code",
   "execution_count": 6,
   "metadata": {},
   "outputs": [],
   "source": [
    "def make_noise_playlist(path: os.PathLike, limit: int = 0) -> List[AudioSegment]:\n",
    "    clips = []\n",
    "    for f in os.listdir(path):\n",
    "        if not f.endswith('wav'):\n",
    "            continue\n",
    "        file_path = os.path.join(path, f)\n",
    "        clips.append(AudioSegment.from_file(file_path))\n",
    "        if limit > 0 and len(clips) > limit:\n",
    "            break\n",
    "    return clips\n",
    "\n",
    "\n",
    "# music_clips = make_noise_playlist(os.path.join('audio', 'music'), 200)\n",
    "# outdoor_clips = make_noise_playlist(os.path.join('audio', 'outside_rural'))"
   ]
  },
  {
   "cell_type": "code",
   "execution_count": 7,
   "metadata": {
    "metadata": {}
   },
   "outputs": [
    {
     "name": "stderr",
     "output_type": "stream",
     "text": [
      "c:\\Users\\cupof\\repos\\audio-project\\.venv\\Lib\\site-packages\\pycochleagram-0.1-py3.12.egg\\pycochleagram\\erbfilter.py:8: RuntimeWarning: pycochleagram using non-interactive Agg matplotlib backend\n",
      "  from pycochleagram import utils\n"
     ]
    }
   ],
   "source": [
    "# https://github.com/mcdermottLab/pycochleagram\n",
    "import pycochleagram.cochleagram as cgram\n",
    "from scipy import ndimage\n",
    "\n",
    "N_FILTERS = 50\n",
    "LO_LIM = 30\n",
    "HI_LIM = 7860\n",
    "SAMPLE_RATE = 16000\n",
    "\n",
    "def gen_clip(audio: AudioSegment, duration: int = 2000) -> AudioSegment:\n",
    "    clip = AudioSegment.silent(duration=duration, frame_rate=SAMPLE_RATE)\n",
    "    audio_duration = len(audio)\n",
    "    offset = max(0, duration / 2 - (audio_duration / 2))\n",
    "    return clip.overlay(audio, offset)\n",
    "\n",
    "def audio_to_cgram(audio: AudioSegment) -> np.array:\n",
    "    # TODO: find audio input type for cochleagram (8-bit integer PCM?)\n",
    "    arr = np.array(audio.get_array_of_samples())\n",
    "    return cgram.human_cochleagram(arr, audio.frame_rate or SAMPLE_RATE,\n",
    "                                   N_FILTERS, LO_LIM, HI_LIM, 4, downsample=200)\n",
    "\n",
    "def aa_cgram(cochleagram: np.ndarray, size: int = 256) -> np.ndarray:\n",
    "    f, t = cochleagram.shape\n",
    "    kx = size / f\n",
    "    ky = size / t\n",
    "    return ndimage.zoom(cochleagram, (kx, ky))\n",
    "\n",
    "# a = gen_clip(clips[0].audio)\n",
    "# c = audio_to_cgram(a)\n",
    "# aa = aa_cgram(c)\n",
    "# c.shape, aa.shape # 211x400, 256x256\n"
   ]
  },
  {
   "cell_type": "code",
   "execution_count": 8,
   "metadata": {
    "metadata": {}
   },
   "outputs": [],
   "source": [
    "import array\n",
    "\n",
    "\n",
    "def overlay_noise(snr: float, signal: AudioSegment, noise: AudioSegment\n",
    "                  ) -> AudioSegment:\n",
    "    # signal = signal.normalize()\n",
    "    # noise = noise.normalize()\n",
    "    # gain = snr - signal.dBFS + noise.dBFS\n",
    "    # scaled_noise = noise.apply_gain(-gain)\n",
    "    # print(np.min(s), np.max(s))\n",
    "    # print(np.min(ss), np.max(ss))\n",
    "    signal_rms = signal.rms\n",
    "    noise_rms = noise.rms\n",
    "    scaling_factor = signal_rms / noise_rms * 10**(-snr/20)\n",
    "    noise_np = np.array(noise.set_channels(1).get_array_of_samples())\n",
    "    noise_samples = noise_np * scaling_factor\n",
    "    # new_noise_rms = np.sqrt(np.mean(np.square(noise_samples)))\n",
    "    # new_snr = (signal_rms / new_noise_rms) ** 2\n",
    "    noise_array = array.array(signal.array_type, np.round(noise_samples).astype(np.int32))\n",
    "    scaled_noise = noise._spawn(noise_array)\n",
    "    return signal.overlay(scaled_noise, loop=True)\n",
    "\n",
    "# noise = AudioSegment.from_file('audio/outside_rural/snipped119_start_240_end_250.wav')\n",
    "# overlay_noise(2.0, gen_clip(clips[0].audio), noise)"
   ]
  },
  {
   "cell_type": "markdown",
   "metadata": {},
   "source": [
    "### Count word frequencies to consider which data points we will keep"
   ]
  },
  {
   "cell_type": "code",
   "execution_count": 10,
   "metadata": {
    "metadata": {}
   },
   "outputs": [
    {
     "data": {
      "text/plain": [
       "{'whiskers': [<matplotlib.lines.Line2D at 0x17d81714260>,\n",
       "  <matplotlib.lines.Line2D at 0x17d81717ec0>],\n",
       " 'caps': [<matplotlib.lines.Line2D at 0x17d81717c80>,\n",
       "  <matplotlib.lines.Line2D at 0x17d81717980>],\n",
       " 'boxes': [<matplotlib.lines.Line2D at 0x17d81714560>],\n",
       " 'medians': [<matplotlib.lines.Line2D at 0x17d817176b0>],\n",
       " 'fliers': [<matplotlib.lines.Line2D at 0x17d81717440>],\n",
       " 'means': []}"
      ]
     },
     "execution_count": 10,
     "metadata": {},
     "output_type": "execute_result"
    },
    {
     "data": {
      "image/png": "[encoded data removed]",
      "text/plain": [
       "<Figure size 640x480 with 1 Axes>"
      ]
     },
     "metadata": {},
     "output_type": "display_data"
    }
   ],
   "source": [
    "import matplotlib.pyplot as plt\n",
    "\n",
    "freq_dict = {}\n",
    "# for pc in clips:\n",
    "#     freq_dict[pc.word] = freq_dict.get(pc.word, 0) + 1\n",
    "\n",
    "freqs = list(filter(lambda x: 5 < x < 200000, freq_dict.values()))\n",
    "\n",
    "plt.boxplot(freqs)"
   ]
  },
  {
   "cell_type": "code",
   "execution_count": 7,
   "metadata": {},
   "outputs": [],
   "source": [
    "def filter_clips(clips: List[PronunciationClip], min_freq: int = 20,\n",
    "                 max_freq: int = 200) -> List[PronunciationClip]:\n",
    "    freq_dict = {}\n",
    "    for pc in clips:\n",
    "        freq_dict[pc.word] = freq_dict.get(pc.word, 0) + 1\n",
    "    included_words = list(filter(lambda w: min_freq < freq_dict[w] < max_freq,\n",
    "                                 freq_dict.keys()))\n",
    "    return list(filter(lambda c: c.word in included_words, clips))"
   ]
  },
  {
   "cell_type": "code",
   "execution_count": 14,
   "metadata": {},
   "outputs": [
    {
     "ename": "NameError",
     "evalue": "name 'freq_dict' is not defined",
     "output_type": "error",
     "traceback": [
      "\u001b[1;31m---------------------------------------------------------------------------\u001b[0m",
      "\u001b[1;31mNameError\u001b[0m                                 Traceback (most recent call last)",
      "Cell \u001b[1;32mIn[14], line 3\u001b[0m\n\u001b[0;32m      1\u001b[0m \u001b[38;5;28;01mfrom\u001b[39;00m \u001b[38;5;21;01mtyping\u001b[39;00m \u001b[38;5;28;01mimport\u001b[39;00m Dict\n\u001b[1;32m----> 3\u001b[0m wf \u001b[38;5;241m=\u001b[39m \u001b[38;5;28mdict\u001b[39m(\u001b[38;5;28mfilter\u001b[39m(\u001b[38;5;28;01mlambda\u001b[39;00m x: \u001b[38;5;241m50\u001b[39m \u001b[38;5;241m<\u001b[39m x[\u001b[38;5;241m1\u001b[39m] \u001b[38;5;241m<\u001b[39m \u001b[38;5;241m300\u001b[39m, \u001b[43mfreq_dict\u001b[49m\u001b[38;5;241m.\u001b[39mitems()))\n\u001b[0;32m      4\u001b[0m \u001b[38;5;28mprint\u001b[39m(\u001b[38;5;124mf\u001b[39m\u001b[38;5;124m'\u001b[39m\u001b[38;5;132;01m{\u001b[39;00m\u001b[38;5;28mlen\u001b[39m(wf)\u001b[38;5;132;01m}\u001b[39;00m\u001b[38;5;124m words remain after filtering\u001b[39m\u001b[38;5;124m'\u001b[39m)\n\u001b[0;32m      6\u001b[0m \u001b[38;5;28;01mwith\u001b[39;00m \u001b[38;5;28mopen\u001b[39m(\u001b[38;5;124m'\u001b[39m\u001b[38;5;124mvocab.txt\u001b[39m\u001b[38;5;124m'\u001b[39m, \u001b[38;5;124m'\u001b[39m\u001b[38;5;124mw\u001b[39m\u001b[38;5;124m'\u001b[39m) \u001b[38;5;28;01mas\u001b[39;00m f:\n",
      "\u001b[1;31mNameError\u001b[0m: name 'freq_dict' is not defined"
     ]
    }
   ],
   "source": [
    "wf = dict(filter(lambda x: 50 < x[1] < 300, freq_dict.items()))\n",
    "print(f'{len(wf)} words remain after filtering')\n",
    "\n",
    "with open('vocab.txt', 'w') as f:\n",
    "    f.write(\"\\n\".join(wf.keys()))\n",
    "    print('wrote vocabulary file')\n",
    "\n"
   ]
  },
  {
   "cell_type": "code",
   "execution_count": 11,
   "metadata": {},
   "outputs": [],
   "source": [
    "from typing import Dict\n",
    "\n",
    "\n",
    "def make_word2ind(clips: List[PronunciationClip]) -> Dict[str, int]:\n",
    "    words2ind = {}\n",
    "    words = set(c.word for c in clips)\n",
    "    for i, w in enumerate(words):\n",
    "        words2ind[w] = i\n",
    "    return words2ind\n",
    "\n",
    "def load_vocab(vocab_file: str = 'vocab.txt') -> List[str]:\n",
    "    vocab = []\n",
    "    with open(vocab_file, 'r') as f:\n",
    "        vocab = f.read().strip().split('\\n')\n",
    "    print(f'Loaded vocabulary {vocab_file} with {len(vocab)} words.')\n",
    "    return vocab\n",
    "\n",
    "def vocab_word2ind(vocab: List[str]) -> Dict[str, int]:\n",
    "    x = {}\n",
    "    for i, w in enumerate(vocab):\n",
    "        x[w] = i\n",
    "    return x\n",
    "\n",
    "def filter_clips_vocab(clips: List[PronunciationClip], vocab: List[str]\n",
    "                 ) -> List[PronunciationClip]:\n",
    "    return list(filter(lambda c: c.word in vocab, clips))"
   ]
  },
  {
   "cell_type": "markdown",
   "metadata": {},
   "source": [
    "### Save Audio Files"
   ]
  },
  {
   "cell_type": "code",
   "execution_count": null,
   "metadata": {},
   "outputs": [],
   "source": [
    "# vocab = load_vocab()\n",
    "# clips = load_utterances(20_000, vocab)"
   ]
  },
  {
   "cell_type": "code",
   "execution_count": 11,
   "metadata": {},
   "outputs": [],
   "source": [
    "# path = os.path.join('parsed_files', 'raw_clips')\n",
    "# utter_path = os.path.join('parsed_files', 'raw_utterance')\n",
    "# os.makedirs(path, exist_ok = True)\n",
    "# os.makedirs(utter_path, exist_ok = True)\n",
    "# for i, c in enumerate(clips):\n",
    "#     og = c.audio.set_channels(1).set_frame_rate(16000)\n",
    "#     og.export(os.path.join(utter_path, f'{c.word}_{i}.wav'), format=\"wav\")\n",
    "#     a = gen_clip(c.audio)\n",
    "#     a.export(os.path.join(path, f'{c.word}_{i}.wav'), format=\"wav\")"
   ]
  },
  {
   "cell_type": "code",
   "execution_count": 8,
   "metadata": {},
   "outputs": [],
   "source": [
    "def load_clips(path: str = 'parsed_files/raw_clips') -> List[PronunciationClip]:\n",
    "    clips = []\n",
    "    for fp in os.listdir(path):\n",
    "        if not fp.endswith('.wav'):\n",
    "            continue\n",
    "        filename = os.path.join(path, fp)\n",
    "        audio = AudioSegment.from_file(filename)\n",
    "        word = fp.split('_')[0]\n",
    "        clips.append(PronunciationClip(word, audio))\n",
    "    return clips"
   ]
  },
  {
   "cell_type": "code",
   "execution_count": 11,
   "metadata": {},
   "outputs": [
    {
     "name": "stdout",
     "output_type": "stream",
     "text": [
      "Loaded vocabulary vocab.txt with 237 words.\n"
     ]
    }
   ],
   "source": [
    "clips = load_clips()\n",
    "vocab = load_vocab()"
   ]
  },
  {
   "cell_type": "code",
   "execution_count": 16,
   "metadata": {},
   "outputs": [
    {
     "name": "stdout",
     "output_type": "stream",
     "text": [
      "237 words from 20003 clips\n"
     ]
    }
   ],
   "source": [
    "word2ind = make_word2ind(clips)\n",
    "print(f'{len(word2ind)} words from {len(clips)} clips')\n",
    "word2ind\n",
    "\n",
    "music_clips = make_noise_playlist(os.path.join('audio', 'music'), 200)\n",
    "outdoor_clips = make_noise_playlist(os.path.join('audio', 'outside_rural'))\n",
    "babble_clips = make_noise_playlist(os.path.join('audio', 'babble'))"
   ]
  },
  {
   "cell_type": "code",
   "execution_count": 17,
   "metadata": {},
   "outputs": [
    {
     "name": "stderr",
     "output_type": "stream",
     "text": [
      "C:\\Users\\cupof\\AppData\\Local\\Temp\\ipykernel_40724\\2912052705.py:19: RuntimeWarning: invalid value encountered in cast\n",
      "  noise_array = array.array(signal.array_type, np.round(noise_samples).astype(np.int32))\n",
      "c:\\Users\\cupof\\repos\\audio-project\\.venv\\Lib\\site-packages\\pycochleagram-0.1-py3.12.egg\\pycochleagram\\cochleagram.py:135: RuntimeWarning: divide by zero encountered in log10\n",
      "  freqs_to_plot = np.log10(freqs)\n"
     ]
    },
    {
     "ename": "KeyboardInterrupt",
     "evalue": "",
     "output_type": "error",
     "traceback": [
      "\u001b[1;31m---------------------------------------------------------------------------\u001b[0m",
      "\u001b[1;31mKeyboardInterrupt\u001b[0m                         Traceback (most recent call last)",
      "Cell \u001b[1;32mIn[17], line 31\u001b[0m\n\u001b[0;32m     29\u001b[0m o_clip \u001b[38;5;241m=\u001b[39m overlay_noise(outdoor_snr[i], a, o_noise)\n\u001b[0;32m     30\u001b[0m b_clip \u001b[38;5;241m=\u001b[39m overlay_noise(babble_snr[i], a, b_noise)\n\u001b[1;32m---> 31\u001b[0m m_cgram \u001b[38;5;241m=\u001b[39m aa_cgram(\u001b[43maudio_to_cgram\u001b[49m\u001b[43m(\u001b[49m\u001b[43mm_clip\u001b[49m\u001b[43m)\u001b[49m)\n\u001b[0;32m     32\u001b[0m o_cgram \u001b[38;5;241m=\u001b[39m aa_cgram(audio_to_cgram(o_clip))\n\u001b[0;32m     33\u001b[0m b_cgram \u001b[38;5;241m=\u001b[39m aa_cgram(audio_to_cgram(b_clip))\n",
      "Cell \u001b[1;32mIn[7], line 19\u001b[0m, in \u001b[0;36maudio_to_cgram\u001b[1;34m(audio)\u001b[0m\n\u001b[0;32m     16\u001b[0m \u001b[38;5;28;01mdef\u001b[39;00m \u001b[38;5;21maudio_to_cgram\u001b[39m(audio: AudioSegment) \u001b[38;5;241m-\u001b[39m\u001b[38;5;241m>\u001b[39m np\u001b[38;5;241m.\u001b[39marray:\n\u001b[0;32m     17\u001b[0m     \u001b[38;5;66;03m# TODO: find audio input type for cochleagram (8-bit integer PCM?)\u001b[39;00m\n\u001b[0;32m     18\u001b[0m     arr \u001b[38;5;241m=\u001b[39m np\u001b[38;5;241m.\u001b[39marray(audio\u001b[38;5;241m.\u001b[39mget_array_of_samples())\n\u001b[1;32m---> 19\u001b[0m     \u001b[38;5;28;01mreturn\u001b[39;00m \u001b[43mcgram\u001b[49m\u001b[38;5;241;43m.\u001b[39;49m\u001b[43mhuman_cochleagram\u001b[49m\u001b[43m(\u001b[49m\u001b[43marr\u001b[49m\u001b[43m,\u001b[49m\u001b[43m \u001b[49m\u001b[43maudio\u001b[49m\u001b[38;5;241;43m.\u001b[39;49m\u001b[43mframe_rate\u001b[49m\u001b[43m \u001b[49m\u001b[38;5;129;43;01mor\u001b[39;49;00m\u001b[43m \u001b[49m\u001b[43mSAMPLE_RATE\u001b[49m\u001b[43m,\u001b[49m\n\u001b[0;32m     20\u001b[0m \u001b[43m                                   \u001b[49m\u001b[43mN_FILTERS\u001b[49m\u001b[43m,\u001b[49m\u001b[43m \u001b[49m\u001b[43mLO_LIM\u001b[49m\u001b[43m,\u001b[49m\u001b[43m \u001b[49m\u001b[43mHI_LIM\u001b[49m\u001b[43m,\u001b[49m\u001b[43m \u001b[49m\u001b[38;5;241;43m4\u001b[39;49m\u001b[43m,\u001b[49m\u001b[43m \u001b[49m\u001b[43mdownsample\u001b[49m\u001b[38;5;241;43m=\u001b[39;49m\u001b[38;5;241;43m200\u001b[39;49m\u001b[43m)\u001b[49m\n",
      "File \u001b[1;32mc:\\Users\\cupof\\repos\\audio-project\\.venv\\Lib\\site-packages\\pycochleagram-0.1-py3.12.egg\\pycochleagram\\cochleagram.py:261\u001b[0m, in \u001b[0;36mhuman_cochleagram\u001b[1;34m(signal, sr, n, low_lim, hi_lim, sample_factor, padding_size, downsample, nonlinearity, fft_mode, ret_mode, strict, **kwargs)\u001b[0m\n\u001b[0;32m    259\u001b[0m \u001b[38;5;28;01mif\u001b[39;00m n \u001b[38;5;129;01mis\u001b[39;00m \u001b[38;5;28;01mNone\u001b[39;00m:\n\u001b[0;32m    260\u001b[0m   n \u001b[38;5;241m=\u001b[39m \u001b[38;5;28mint\u001b[39m(np\u001b[38;5;241m.\u001b[39mfloor(erb\u001b[38;5;241m.\u001b[39mfreq2erb(hi_lim) \u001b[38;5;241m-\u001b[39m erb\u001b[38;5;241m.\u001b[39mfreq2erb(low_lim)) \u001b[38;5;241m-\u001b[39m \u001b[38;5;241m1\u001b[39m)\n\u001b[1;32m--> 261\u001b[0m out \u001b[38;5;241m=\u001b[39m \u001b[43mcochleagram\u001b[49m\u001b[43m(\u001b[49m\u001b[43msignal\u001b[49m\u001b[43m,\u001b[49m\u001b[43m \u001b[49m\u001b[43msr\u001b[49m\u001b[43m,\u001b[49m\u001b[43m \u001b[49m\u001b[43mn\u001b[49m\u001b[43m,\u001b[49m\u001b[43m \u001b[49m\u001b[43mlow_lim\u001b[49m\u001b[43m,\u001b[49m\u001b[43m \u001b[49m\u001b[43mhi_lim\u001b[49m\u001b[43m,\u001b[49m\u001b[43m \u001b[49m\u001b[43msample_factor\u001b[49m\u001b[43m,\u001b[49m\u001b[43m \u001b[49m\u001b[43mpadding_size\u001b[49m\u001b[43m,\u001b[49m\n\u001b[0;32m    262\u001b[0m \u001b[43m    \u001b[49m\u001b[43mdownsample\u001b[49m\u001b[43m,\u001b[49m\u001b[43m \u001b[49m\u001b[43mnonlinearity\u001b[49m\u001b[43m,\u001b[49m\u001b[43m \u001b[49m\u001b[43mfft_mode\u001b[49m\u001b[43m,\u001b[49m\u001b[43m \u001b[49m\u001b[43mret_mode\u001b[49m\u001b[43m,\u001b[49m\u001b[43m \u001b[49m\u001b[43mstrict\u001b[49m\u001b[43m,\u001b[49m\u001b[43m \u001b[49m\u001b[38;5;241;43m*\u001b[39;49m\u001b[38;5;241;43m*\u001b[39;49m\u001b[43mkwargs\u001b[49m\u001b[43m)\u001b[49m\n\u001b[0;32m    264\u001b[0m \u001b[38;5;28;01mreturn\u001b[39;00m out\n",
      "File \u001b[1;32mc:\\Users\\cupof\\repos\\audio-project\\.venv\\Lib\\site-packages\\pycochleagram-0.1-py3.12.egg\\pycochleagram\\cochleagram.py:174\u001b[0m, in \u001b[0;36mcochleagram\u001b[1;34m(signal, sr, n, low_lim, hi_lim, sample_factor, padding_size, downsample, nonlinearity, fft_mode, ret_mode, strict, **kwargs)\u001b[0m\n\u001b[0;32m    171\u001b[0m     temp_sb \u001b[38;5;241m=\u001b[39m apply_envelope_downsample(temp_sb, downsample)\n\u001b[0;32m    172\u001b[0m   \u001b[38;5;28;01melse\u001b[39;00m:\n\u001b[0;32m    173\u001b[0m     \u001b[38;5;66;03m# interpret downsample as new sampling rate\u001b[39;00m\n\u001b[1;32m--> 174\u001b[0m     temp_sb \u001b[38;5;241m=\u001b[39m \u001b[43mapply_envelope_downsample\u001b[49m\u001b[43m(\u001b[49m\u001b[43mtemp_sb\u001b[49m\u001b[43m,\u001b[49m\u001b[43m \u001b[49m\u001b[38;5;124;43m'\u001b[39;49m\u001b[38;5;124;43mpoly\u001b[39;49m\u001b[38;5;124;43m'\u001b[39;49m\u001b[43m,\u001b[49m\u001b[43m \u001b[49m\u001b[43msr\u001b[49m\u001b[43m,\u001b[49m\u001b[43m \u001b[49m\u001b[43mdownsample\u001b[49m\u001b[43m)\u001b[49m\n\u001b[0;32m    175\u001b[0m   temp_sb \u001b[38;5;241m=\u001b[39m apply_envelope_nonlinearity(temp_sb, nonlinearity)\n\u001b[0;32m    177\u001b[0m \u001b[38;5;28;01mif\u001b[39;00m i \u001b[38;5;241m==\u001b[39m \u001b[38;5;241m0\u001b[39m:\n",
      "File \u001b[1;32mc:\\Users\\cupof\\repos\\audio-project\\.venv\\Lib\\site-packages\\pycochleagram-0.1-py3.12.egg\\pycochleagram\\cochleagram.py:443\u001b[0m, in \u001b[0;36mapply_envelope_downsample\u001b[1;34m(subband_envelopes, mode, audio_sr, env_sr, invert, strict)\u001b[0m\n\u001b[0;32m    438\u001b[0m   inv_signal, inv_coch \u001b[38;5;241m=\u001b[39m invert_cochleagram_with_filterbank(cochleagram_ref, filts, sr, target_rms\u001b[38;5;241m=\u001b[39mtarget_rms, n_iter\u001b[38;5;241m=\u001b[39mn_iter)\n\u001b[0;32m    440\u001b[0m   \u001b[38;5;28;01mreturn\u001b[39;00m inv_signal, inv_coch\n\u001b[1;32m--> 443\u001b[0m \u001b[38;5;28;01mdef\u001b[39;00m \u001b[38;5;21mapply_envelope_downsample\u001b[39m(subband_envelopes, mode, audio_sr\u001b[38;5;241m=\u001b[39m\u001b[38;5;28;01mNone\u001b[39;00m, env_sr\u001b[38;5;241m=\u001b[39m\u001b[38;5;28;01mNone\u001b[39;00m, invert\u001b[38;5;241m=\u001b[39m\u001b[38;5;28;01mFalse\u001b[39;00m, strict\u001b[38;5;241m=\u001b[39m\u001b[38;5;28;01mTrue\u001b[39;00m):\n\u001b[0;32m    444\u001b[0m \u001b[38;5;250m  \u001b[39m\u001b[38;5;124;03m\"\"\"Apply a downsampling operation to cochleagram subband envelopes.\u001b[39;00m\n\u001b[0;32m    445\u001b[0m \n\u001b[0;32m    446\u001b[0m \u001b[38;5;124;03m  The `mode` argument can be a predefined downsampling type from\u001b[39;00m\n\u001b[1;32m   (...)\u001b[0m\n\u001b[0;32m    478\u001b[0m \u001b[38;5;124;03m      downsampled with `mode`.\u001b[39;00m\n\u001b[0;32m    479\u001b[0m \u001b[38;5;124;03m  \"\"\"\u001b[39;00m\n\u001b[0;32m    480\u001b[0m   \u001b[38;5;28;01mif\u001b[39;00m mode \u001b[38;5;129;01mis\u001b[39;00m \u001b[38;5;28;01mNone\u001b[39;00m:\n",
      "\u001b[1;31mKeyboardInterrupt\u001b[0m: "
     ]
    }
   ],
   "source": [
    "# import random\n",
    "\n",
    "# all_clips = []\n",
    "# all_targets = []\n",
    "\n",
    "\n",
    "# # music is -6dB mean, other noise is -3dB mean. all with 2dB variance\n",
    "# np.random.seed(123)\n",
    "# N = len(clips)\n",
    "# music_snr = np.random.normal(-6, 2, N)\n",
    "# outdoor_snr = np.random.normal(-3, 2, N)\n",
    "# babble_snr = np.random.normal(-3, 2, N)\n",
    "\n",
    "# m_path = os.path.join('parsed_files', 'music')\n",
    "# o_path = os.path.join('parsed_files', 'outdoor')\n",
    "# b_path = os.path.join('parsed_files', 'babble')\n",
    "\n",
    "# os.makedirs(m_path, exist_ok = True)\n",
    "# os.makedirs(o_path, exist_ok = True)\n",
    "# os.makedirs(b_path, exist_ok = True)\n",
    "\n",
    "# random.seed(123)\n",
    "# for i, clip in enumerate(clips):\n",
    "#     a = gen_clip(clip.audio)\n",
    "#     m_noise = random.choice(music_clips)\n",
    "#     o_noise = random.choice(outdoor_clips)\n",
    "#     b_noise = random.choice(babble_clips)\n",
    "#     m_clip = overlay_noise(music_snr[i], a, m_noise)\n",
    "#     o_clip = overlay_noise(outdoor_snr[i], a, o_noise)\n",
    "#     b_clip = overlay_noise(babble_snr[i], a, b_noise)\n",
    "#     m_cgram = aa_cgram(audio_to_cgram(m_clip))\n",
    "#     o_cgram = aa_cgram(audio_to_cgram(o_clip))\n",
    "#     b_cgram = aa_cgram(audio_to_cgram(b_clip))\n",
    "#     all_clips.append(m_cgram)\n",
    "#     all_clips.append(o_cgram)\n",
    "#     all_clips.append(b_cgram)\n",
    "\n",
    "#     fname = f'{clip.word}_{i}'\n",
    "\n",
    "#     m_clip.export(os.path.join(m_path, fname + '.wav'), format=\"wav\")\n",
    "#     o_clip.export(os.path.join(o_path, fname + '.wav'), format=\"wav\")\n",
    "#     b_clip.export(os.path.join(b_path, fname + '.wav'), format=\"wav\")\n",
    "#     np.save(os.path.join(m_path, fname + '.npy'), m_cgram)\n",
    "#     np.save(os.path.join(o_path, fname + '.npy'), m_cgram)\n",
    "#     np.save(os.path.join(b_path, fname + '.npy'), m_cgram)\n",
    "\n",
    "#     word_id = word2ind[clip.word]\n",
    "#     all_targets.extend([word_id, word_id])"
   ]
  },
  {
   "cell_type": "code",
   "execution_count": 19,
   "metadata": {},
   "outputs": [
    {
     "name": "stdout",
     "output_type": "stream",
     "text": [
      "Loaded vocabulary vocab.txt with 237 words.\n"
     ]
    },
    {
     "data": {
      "text/plain": [
       "(array([[[4.49515113e+06, 9.24959008e+06, 8.73088732e+06, ...,\n",
       "          1.08147777e+07, 1.00926726e+07, 1.02333184e+07],\n",
       "         [4.40310368e+06, 9.66684687e+06, 1.01305830e+07, ...,\n",
       "          1.08153390e+07, 9.45851343e+06, 9.54587546e+06],\n",
       "         [2.40321472e+06, 6.95156203e+06, 1.05947240e+07, ...,\n",
       "          1.37136710e+07, 1.09313796e+07, 7.45638400e+06],\n",
       "         ...,\n",
       "         [2.32944785e+08, 4.92995008e+08, 4.89250316e+08, ...,\n",
       "          4.45353405e+08, 4.33913969e+08, 5.04644898e+08],\n",
       "         [2.39492548e+08, 5.01244281e+08, 5.01641453e+08, ...,\n",
       "          4.54731135e+08, 4.44501887e+08, 5.14464738e+08],\n",
       "         [2.37992132e+08, 4.95977835e+08, 4.98265576e+08, ...,\n",
       "          4.50471129e+08, 4.42047333e+08, 5.10014339e+08]],\n",
       " \n",
       "        [[5.55523274e+06, 1.64851955e+07, 2.63544944e+07, ...,\n",
       "          2.30421203e+07, 1.49149255e+07, 8.49258943e+06],\n",
       "         [6.66134717e+06, 2.30084065e+07, 3.31603278e+07, ...,\n",
       "          2.31576260e+07, 1.96102252e+07, 6.22506129e+06],\n",
       "         [8.33596930e+06, 2.78836763e+07, 3.86100892e+07, ...,\n",
       "          2.41377777e+07, 2.44508955e+07, 8.97383059e+06],\n",
       "         ...,\n",
       "         [2.19871653e+08, 4.73906793e+08, 4.72774972e+08, ...,\n",
       "          4.49273741e+08, 4.75740111e+08, 5.58128817e+08],\n",
       "         [2.26003415e+08, 4.85916902e+08, 4.83714203e+08, ...,\n",
       "          4.62439072e+08, 4.89404863e+08, 5.70764116e+08],\n",
       "         [2.25109652e+08, 4.82377114e+08, 4.81022681e+08, ...,\n",
       "          4.60362234e+08, 4.86922234e+08, 5.65994676e+08]],\n",
       " \n",
       "        [[1.76284862e+07, 6.40807974e+06, 3.12500876e+07, ...,\n",
       "          1.63937829e+07, 3.75988162e+07, 4.82283209e+07],\n",
       "         [2.10509445e+07, 1.19466616e+07, 3.81285431e+07, ...,\n",
       "          1.88307985e+07, 3.41660021e+07, 5.46441097e+07],\n",
       "         [2.39686072e+07, 1.92256977e+07, 4.62192067e+07, ...,\n",
       "          1.96600354e+07, 2.96735527e+07, 5.75714439e+07],\n",
       "         ...,\n",
       "         [1.90988616e+08, 4.71607044e+08, 4.31820096e+08, ...,\n",
       "          4.63101937e+08, 4.37761007e+08, 4.72236650e+08],\n",
       "         [1.95711701e+08, 4.81672711e+08, 4.43193089e+08, ...,\n",
       "          4.76761987e+08, 4.48148704e+08, 4.84532257e+08],\n",
       "         [1.94556079e+08, 4.77246381e+08, 4.40843118e+08, ...,\n",
       "          4.74095182e+08, 4.45523329e+08, 4.80514948e+08]],\n",
       " \n",
       "        ...,\n",
       " \n",
       "        [[7.42793767e+06, 1.76091038e+07, 2.21024400e+07, ...,\n",
       "          1.40638102e+07, 1.78319123e+07, 1.67216610e+07],\n",
       "         [6.84568908e+06, 1.85538099e+07, 2.13106685e+07, ...,\n",
       "          1.34861963e+07, 1.86645860e+07, 1.66201810e+07],\n",
       "         [7.14989780e+06, 1.76289936e+07, 2.17785233e+07, ...,\n",
       "          1.34496065e+07, 1.81551366e+07, 1.71195497e+07],\n",
       "         ...,\n",
       "         [2.21258412e+08, 4.16851696e+08, 4.23755921e+08, ...,\n",
       "          4.55277279e+08, 4.24954982e+08, 4.64794513e+08],\n",
       "         [2.29275967e+08, 4.28058048e+08, 4.34187089e+08, ...,\n",
       "          4.66096618e+08, 4.33892711e+08, 4.72895580e+08],\n",
       "         [2.28592196e+08, 4.25600524e+08, 4.31213919e+08, ...,\n",
       "          4.62634585e+08, 4.29564792e+08, 4.68136746e+08]],\n",
       " \n",
       "        [[1.92378835e+07, 3.62596780e+07, 3.12867480e+07, ...,\n",
       "          2.50036182e+07, 9.51778597e+06, 3.75751550e+07],\n",
       "         [1.99733411e+07, 3.65822488e+07, 2.97649503e+07, ...,\n",
       "          2.64776590e+07, 8.74539521e+06, 3.89656935e+07],\n",
       "         [1.94431548e+07, 3.62777007e+07, 2.75718007e+07, ...,\n",
       "          2.72365284e+07, 9.42349203e+06, 3.77603985e+07],\n",
       "         ...,\n",
       "         [2.20499098e+08, 5.17915079e+08, 4.77517155e+08, ...,\n",
       "          4.71971356e+08, 4.47571799e+08, 4.97491990e+08],\n",
       "         [2.26483869e+08, 5.31948441e+08, 4.89441468e+08, ...,\n",
       "          4.85819335e+08, 4.59562815e+08, 5.10324904e+08],\n",
       "         [2.25312484e+08, 5.28300207e+08, 4.86204735e+08, ...,\n",
       "          4.83081445e+08, 4.57151428e+08, 5.06588959e+08]],\n",
       " \n",
       "        [[6.71033466e+06, 1.36046805e+07, 2.22550226e+07, ...,\n",
       "          2.08930308e+07, 8.33389688e+06, 1.32702831e+07],\n",
       "         [8.17862215e+06, 1.00950592e+07, 2.62938645e+07, ...,\n",
       "          2.28721838e+07, 1.30696797e+07, 1.86063852e+07],\n",
       "         [9.88221240e+06, 8.11635922e+06, 3.02414021e+07, ...,\n",
       "          2.46886725e+07, 1.75706418e+07, 2.38963809e+07],\n",
       "         ...,\n",
       "         [2.06677971e+08, 5.27923970e+08, 4.49384748e+08, ...,\n",
       "          4.67522116e+08, 4.02174242e+08, 5.02204309e+08],\n",
       "         [2.11309194e+08, 5.38976490e+08, 4.60160771e+08, ...,\n",
       "          4.78792515e+08, 4.11614824e+08, 5.15097263e+08],\n",
       "         [2.09215816e+08, 5.34524250e+08, 4.56568707e+08, ...,\n",
       "          4.75034774e+08, 4.08799783e+08, 5.11271928e+08]]]),\n",
       " array([154, 154, 154, ..., 160, 160, 160]))"
      ]
     },
     "execution_count": 19,
     "metadata": {},
     "output_type": "execute_result"
    }
   ],
   "source": [
    "def load_cochleagrams(path: os.PathLike, word2ind: Dict[str, int]\n",
    "                      ) -> Tuple[np.ndarray, np.ndarray]:\n",
    "    data = []\n",
    "    targets = []\n",
    "    for f in os.listdir(path):\n",
    "        w = f.split('_')[0]\n",
    "        if not f.endswith(\".npy\") or w not in word2ind:\n",
    "            continue\n",
    "        x = np.load(os.path.join(path, f))\n",
    "        data.append(x)\n",
    "        targets.append(word2ind[w])\n",
    "    return np.array(data), np.array(targets)\n",
    "\n",
    "vocab = load_vocab()\n",
    "word2ind = vocab_word2ind(vocab)\n",
    "load_cochleagrams('parsed_files/babble', word2ind)"
   ]
  },
  {
   "cell_type": "code",
   "execution_count": null,
   "metadata": {},
   "outputs": [],
   "source": []
  }
 ],
 "metadata": {
  "kernelspec": {
   "display_name": ".venv",
   "language": "python",
   "name": "python3"
  },
  "language_info": {
   "codemirror_mode": {
    "name": "ipython",
    "version": 3
   },
   "file_extension": ".py",
   "mimetype": "text/x-python",
   "name": "python",
   "nbconvert_exporter": "python",
   "pygments_lexer": "ipython3",
   "version": "3.12.3"
  }
 },
 "nbformat": 4,
 "nbformat_minor": 2
}
